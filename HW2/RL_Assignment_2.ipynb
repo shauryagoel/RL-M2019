{
  "nbformat": 4,
  "nbformat_minor": 0,
  "metadata": {
    "colab": {
      "name": "RL Assignment-2",
      "version": "0.3.2",
      "provenance": [],
      "collapsed_sections": []
    },
    "kernelspec": {
      "name": "python3",
      "display_name": "Python 3"
    }
  },
  "cells": [
    {
      "cell_type": "code",
      "metadata": {
        "id": "N5L0ja5LPoVX",
        "colab_type": "code",
        "colab": {}
      },
      "source": [
        "import numpy as np\n",
        "import matplotlib.pyplot as plt\n",
        "import itertools\n",
        "from scipy.stats import poisson\n",
        "from numba import jit"
      ],
      "execution_count": 0,
      "outputs": []
    },
    {
      "cell_type": "markdown",
      "metadata": {
        "id": "stXsQwTlEz5Q",
        "colab_type": "text"
      },
      "source": [
        "# ANS-2"
      ]
    },
    {
      "cell_type": "code",
      "metadata": {
        "id": "CDZBKWUIZ7CX",
        "colab_type": "code",
        "colab": {}
      },
      "source": [
        "# Grid length \n",
        "k=5           \n",
        "gamma=0.9\n",
        "\n",
        "# Correct the coordinates for points outside grid\n",
        "def correct(x,i):\n",
        "    return min(max(0,x+i),k-1)\n",
        "\n",
        "# Get corrected neighbours given a coordinate\n",
        "def get_neighbour(x,y):\n",
        "    for i,j in [(-1,0),(0,1),(1,0),(0,-1)]:\n",
        "        yield correct(x,i), correct(y,j)"
      ],
      "execution_count": 0,
      "outputs": []
    },
    {
      "cell_type": "code",
      "metadata": {
        "id": "R7vhzSGJeEZH",
        "colab_type": "code",
        "colab": {}
      },
      "source": [
        "pi=0.25*np.ones((4,1))\n",
        "r=np.zeros((k,k,4))        # Reward matrix (r,c,a) reward for each action (up,right,down,left) at each state \n",
        "P=np.zeros((k,k,k,k,4))    # Transition matrix (r,c,r',c',a) probability of taking action 'a' in state (r,c) and getting at state (r',c')  \n",
        "\n",
        "# Visit all states\n",
        "for i,j in itertools.product(range(k),range(k)):\n",
        "    for action,nei in enumerate(get_neighbour(i,j)):\n",
        "        if nei==(i,j):\n",
        "            r[i,j,action]=-1      # Assign -1 if coordinates are same\n",
        "        P[i,j,nei[0],nei[1],action]=1\n",
        "\n",
        "# Set reward matrix \n",
        "r[0,1]=10\n",
        "r[0,3]=5\n",
        "r=r.reshape(k*k,4)\n",
        "\n",
        "# Set transistion matrix\n",
        "P[0,1]=0\n",
        "P[0,1,4,1]=1\n",
        "P[0,3]=0\n",
        "P[0,3,2,3]=1\n",
        "P=P.reshape(k*k,k*k,4)"
      ],
      "execution_count": 0,
      "outputs": []
    },
    {
      "cell_type": "code",
      "metadata": {
        "id": "u3pEul3X9iV4",
        "colab_type": "code",
        "outputId": "1d903b9b-2c07-4861-93e7-4463b700e273",
        "colab": {
          "base_uri": "https://localhost:8080/",
          "height": 102
        }
      },
      "source": [
        "# Multiply with policy\n",
        "r=r.dot(pi)\n",
        "P=P.dot(pi).squeeze(-1)\n",
        "\n",
        "# Find V by solving system of linear equations\n",
        "V=np.linalg.pinv(np.eye(k*k)-gamma*P).dot(r)\n",
        "V=V.reshape(k,k).round(1)   \n",
        "V"
      ],
      "execution_count": 0,
      "outputs": [
        {
          "output_type": "execute_result",
          "data": {
            "text/plain": [
              "array([[ 3.3,  8.8,  4.4,  5.3,  1.5],\n",
              "       [ 1.5,  3. ,  2.3,  1.9,  0.5],\n",
              "       [ 0.1,  0.7,  0.7,  0.4, -0.4],\n",
              "       [-1. , -0.4, -0.4, -0.6, -1.2],\n",
              "       [-1.9, -1.3, -1.2, -1.4, -2. ]])"
            ]
          },
          "metadata": {
            "tags": []
          },
          "execution_count": 125
        }
      ]
    },
    {
      "cell_type": "markdown",
      "metadata": {
        "id": "SR3VZgMYdDZ7",
        "colab_type": "text"
      },
      "source": [
        "# ANS-4"
      ]
    },
    {
      "cell_type": "code",
      "metadata": {
        "id": "F_B3s4nS9iDZ",
        "colab_type": "code",
        "colab": {}
      },
      "source": [
        "# Grid length \n",
        "k=5           \n",
        "gamma=0.9\n",
        "\n",
        "# Correct the coordinates for points outside grid\n",
        "def correct(x,i):\n",
        "    return min(max(0,x+i),k-1)\n",
        "\n",
        "# Get corrected neighbours given a coordinate for every tion\n",
        "def get_neighbour(x,y):\n",
        "    if x==0 and y==1:\n",
        "        for _ in range(4):\n",
        "            yield (4,1)\n",
        "    elif x==0 and y==3:\n",
        "        for _ in range(4):\n",
        "            yield (2,3)\n",
        "    else:\n",
        "        for i,j in [(-1,0),(0,1),(1,0),(0,-1)]:\n",
        "            yield correct(x,i), correct(y,j)"
      ],
      "execution_count": 0,
      "outputs": []
    },
    {
      "cell_type": "code",
      "metadata": {
        "id": "mBeWAcspj0Zt",
        "colab_type": "code",
        "colab": {}
      },
      "source": [
        "# Get reward and transition matrix\n",
        "R=np.zeros((k,k,4))        # reward for each action (up,right,down,left) at each state \n",
        "P=np.zeros((k,k,k,k,4))    # (r,c,r',c',a) Probability of taking action 'a' in state (r,c) and getting at state (r',c')  \n",
        "\n",
        "# Check all states\n",
        "for i,j in itertools.product(range(k),range(k)):\n",
        "    for action,nei in enumerate(get_neighbour(i,j)):\n",
        "        if nei==(i,j):\n",
        "            R[i,j,action]=-1    # Assign -1 if coordinates are same\n",
        "        P[i,j,nei[0],nei[1],action]=1\n",
        "\n",
        "R[0,1]=10\n",
        "R[0,3]=5\n",
        "\n",
        "V=np.zeros((k,k))            # Initialize value function with zeros\n",
        "Pi=0.25*np.ones((k,k,4))     # Initialize policy with random actions\n",
        "\n",
        "epsilon=1e-9         # Tolerance of Policy evaluation"
      ],
      "execution_count": 0,
      "outputs": []
    },
    {
      "cell_type": "code",
      "metadata": {
        "id": "GIFlLKW4dZrO",
        "colab_type": "code",
        "colab": {}
      },
      "source": [
        "# Policy Evaluation\n",
        "def Policy_evaluation():\n",
        "    while True:\n",
        "        Delta=0\n",
        "        # Visit all states\n",
        "        for i,j in itertools.product(range(k),range(k)):\n",
        "            tempv=V[i,j]\n",
        "            summation=0\n",
        "            for action,neig in enumerate(get_neighbour(i,j)):\n",
        "                summation+=Pi[i,j,action]*(R[i,j,action]+gamma*V[neig[0],neig[1]])\n",
        "            V[i,j]=summation\n",
        "            Delta=max(Delta,abs(V[i,j]-tempv))\n",
        "        if Delta<epsilon:\n",
        "            break"
      ],
      "execution_count": 0,
      "outputs": []
    },
    {
      "cell_type": "code",
      "metadata": {
        "id": "wiblVzB4dZdd",
        "colab_type": "code",
        "colab": {}
      },
      "source": [
        "# Policy Improvement\n",
        "def Policy_improvement():\n",
        "    policy_stable=True\n",
        "    for i,j in itertools.product(range(k),range(k)):\n",
        "        old_action=np.argmax(Pi[i,j])\n",
        "        values=[]\n",
        "        for action,neig in enumerate(get_neighbour(i,j)):\n",
        "            values.append(R[i,j,action]+gamma*V[neig[0],neig[1]])\n",
        "        best_actions=np.where(values==np.max(values))[0]    # Check for multiple best values\n",
        "        Pi[i,j]=0\n",
        "        Pi[i,j,best_actions]=1/len(best_actions)    # Assign equal probability to all best actions\n",
        "        if old_action!=np.argmax(Pi[i,j]):\n",
        "            policy_stable=False\n",
        "    return policy_stable"
      ],
      "execution_count": 0,
      "outputs": []
    },
    {
      "cell_type": "code",
      "metadata": {
        "id": "LkJhPARsdZPI",
        "colab_type": "code",
        "colab": {}
      },
      "source": [
        "while True:\n",
        "    Policy_evaluation()\n",
        "    PI=Policy_improvement()\n",
        "    if PI:\n",
        "        break"
      ],
      "execution_count": 0,
      "outputs": []
    },
    {
      "cell_type": "code",
      "metadata": {
        "id": "S81rJzJgdZAW",
        "colab_type": "code",
        "outputId": "ea506ae7-42cb-4bf1-afba-c3c0060ac81d",
        "colab": {
          "base_uri": "https://localhost:8080/",
          "height": 102
        }
      },
      "source": [
        "V.round(1)   # Value function"
      ],
      "execution_count": 0,
      "outputs": [
        {
          "output_type": "execute_result",
          "data": {
            "text/plain": [
              "array([[22. , 24.4, 22. , 19.4, 17.5],\n",
              "       [19.8, 22. , 19.8, 17.8, 16. ],\n",
              "       [17.8, 19.8, 17.8, 16. , 14.4],\n",
              "       [16. , 17.8, 16. , 14.4, 13. ],\n",
              "       [14.4, 16. , 14.4, 13. , 11.7]])"
            ]
          },
          "metadata": {
            "tags": []
          },
          "execution_count": 131
        }
      ]
    },
    {
      "cell_type": "code",
      "metadata": {
        "id": "nb1BCv3mu7o-",
        "colab_type": "code",
        "outputId": "68a07cd7-0929-4740-8002-70d98155639e",
        "colab": {
          "base_uri": "https://localhost:8080/",
          "height": 102
        }
      },
      "source": [
        "# Prints best policy\n",
        "for i in range(k):\n",
        "    for j in range(k):\n",
        "        print(np.where(Pi[i,j]==np.max(Pi[i,j]))[0].tolist(),end='          ')\n",
        "    print()"
      ],
      "execution_count": 0,
      "outputs": [
        {
          "output_type": "stream",
          "text": [
            "[1]          [0, 1, 2, 3]          [3]          [0, 1, 2, 3]          [3]          \n",
            "[0, 1]          [0]          [0, 3]          [3]          [3]          \n",
            "[0, 1]          [0]          [0, 3]          [0, 3]          [0, 3]          \n",
            "[0, 1]          [0]          [0, 3]          [0, 3]          [0, 3]          \n",
            "[0, 1]          [0]          [0, 3]          [0, 3]          [0, 3]          \n"
          ],
          "name": "stdout"
        }
      ]
    },
    {
      "cell_type": "markdown",
      "metadata": {
        "id": "uMCv7Rh9SFCs",
        "colab_type": "text"
      },
      "source": [
        "# ANS-6\n"
      ]
    },
    {
      "cell_type": "code",
      "metadata": {
        "id": "NIOo0uLbSEDF",
        "colab_type": "code",
        "colab": {}
      },
      "source": [
        "# Grid length \n",
        "k=4\n",
        "gamma=1\n",
        "\n",
        "action_list={0:(-1,0), 1:(0,1), 2:(1,0), 3:(0,-1)}\n",
        "\n",
        "# Correct the coordinates for points outside grid\n",
        "def correct(x,i):\n",
        "    return min(max(0,x+i),k-1)\n",
        "\n",
        "# Get corrected neighbours for each action given a coordinate \n",
        "def get_neighbours(x,y):\n",
        "    for i in range(4):\n",
        "        yield get_neighbour(x,y,i)\n",
        "\n",
        "# Get corrected neighbour given a coordinate and an action\n",
        "def get_neighbour(x,y,a):\n",
        "    move=action_list[a]\n",
        "    return correct(x,move[0]), correct(y,move[1])\n",
        "\n",
        "# Choose an action greedily according to pi for the given coordinate (return all best actions if multiple actions)\n",
        "def choose_action(x,y):\n",
        "    return np.where(pi[x,y]==np.max(pi[x,y]))[0]\n",
        "\n",
        "# Check if (x,y) are terminal state\n",
        "def is_terminal(x,y):\n",
        "    return (x==0 and y==0) or (x==(k-1) and y==(k-1))"
      ],
      "execution_count": 0,
      "outputs": []
    },
    {
      "cell_type": "markdown",
      "metadata": {
        "id": "mG-C95Oz_jNZ",
        "colab_type": "text"
      },
      "source": [
        "**Policy Iteration**"
      ]
    },
    {
      "cell_type": "code",
      "metadata": {
        "id": "VyDhpW1HSD-G",
        "colab_type": "code",
        "colab": {}
      },
      "source": [
        "# Get reward matrix\n",
        "R=np.zeros((k,k,4))        # reward for each action (up,right,down,left) at each state \n",
        "\n",
        "for i,j in itertools.product(range(k),range(k)):\n",
        "    if is_terminal(i,j):\n",
        "        continue\n",
        "    for action,nei in enumerate(get_neighbours(i,j)):\n",
        "            R[i,j,action]=-1    # Assign -1 for each transition\n",
        "\n",
        "V=np.zeros((k,k))            # Initialize value function with zeros\n",
        "pi=0.25*np.ones((k,k,4))     # Initialize policy with random actions\n",
        "\n",
        "epsilon=1e-9                 # Tolerance of Policy evaluation"
      ],
      "execution_count": 0,
      "outputs": []
    },
    {
      "cell_type": "code",
      "metadata": {
        "id": "rC59KKZmSD4E",
        "colab_type": "code",
        "colab": {}
      },
      "source": [
        "# Policy Evaluation\n",
        "delta_history=[]\n",
        "def Policy_evaluation():\n",
        "    while True:\n",
        "        Delta=0\n",
        "        for i,j in itertools.product(range(k),range(k)):    # Check all non-terminal states\n",
        "            if is_terminal(i,j):\n",
        "                continue\n",
        "            tempv=V[i,j]\n",
        "            summation=0\n",
        "            for action,neig in enumerate(get_neighbours(i,j)):\n",
        "                summation+=pi[i,j,action]*(R[i,j,action]+gamma*V[neig[0],neig[1]])\n",
        "            V[i,j]=summation\n",
        "            Delta=max(Delta,abs(V[i,j]-tempv))\n",
        "        delta_history.append(Delta)\n",
        "        if Delta<epsilon:\n",
        "            break"
      ],
      "execution_count": 0,
      "outputs": []
    },
    {
      "cell_type": "code",
      "metadata": {
        "id": "G_Teot2JSDy0",
        "colab_type": "code",
        "colab": {}
      },
      "source": [
        "stability_hist=[]\n",
        "# Policy Improvement\n",
        "def Policy_improvement():\n",
        "    policy_stable=True\n",
        "    for i,j in itertools.product(range(k),range(k)):\n",
        "        n_stable=k*k-2         # Calculate number of stable states\n",
        "        if is_terminal(i,j):\n",
        "            continue\n",
        "        old_action=choose_action(i,j)\n",
        "        values=[]\n",
        "        for action,neig in enumerate(get_neighbours(i,j)):\n",
        "            values.append(R[i,j,action]+gamma*V[neig[0],neig[1]])\n",
        "        best_actions=np.where(values==np.max(values))[0]\n",
        "        pi[i,j]=0\n",
        "        pi[i,j,best_actions]=1/len(best_actions)    # Assign equal probability to all best actions\n",
        "\n",
        "        # Fixes 4.4 bug by comparing best actions with previous actions instead of a single action\n",
        "        if not np.array_equal(old_action,best_actions):       \n",
        "            policy_stable=False\n",
        "            n_stable-=1\n",
        "        stability_hist.append(n_stable)\n",
        "    return policy_stable"
      ],
      "execution_count": 0,
      "outputs": []
    },
    {
      "cell_type": "code",
      "metadata": {
        "id": "QQSMcmaVSDo4",
        "colab_type": "code",
        "outputId": "45f3a85f-e2c4-4040-d1a5-c50863141def",
        "colab": {
          "base_uri": "https://localhost:8080/",
          "height": 34
        }
      },
      "source": [
        "c=0\n",
        "while True:\n",
        "    c+=1\n",
        "    Policy_evaluation()\n",
        "    PI=Policy_improvement()\n",
        "    if PI:\n",
        "        break\n",
        "\n",
        "print(\"Number of steps taken to converge:\",c)"
      ],
      "execution_count": 302,
      "outputs": [
        {
          "output_type": "stream",
          "text": [
            "Number of steps taken to converge: 3\n"
          ],
          "name": "stdout"
        }
      ]
    },
    {
      "cell_type": "code",
      "metadata": {
        "id": "sbmZJoW4BX2J",
        "colab_type": "code",
        "outputId": "7df2bacc-5c5b-4359-add8-5b79409510ae",
        "colab": {
          "base_uri": "https://localhost:8080/",
          "height": 85
        }
      },
      "source": [
        "V.round(1)"
      ],
      "execution_count": 303,
      "outputs": [
        {
          "output_type": "execute_result",
          "data": {
            "text/plain": [
              "array([[ 0., -1., -2., -3.],\n",
              "       [-1., -2., -3., -2.],\n",
              "       [-2., -3., -2., -1.],\n",
              "       [-3., -2., -1.,  0.]])"
            ]
          },
          "metadata": {
            "tags": []
          },
          "execution_count": 303
        }
      ]
    },
    {
      "cell_type": "code",
      "metadata": {
        "id": "bcfQLKCWBYPq",
        "colab_type": "code",
        "outputId": "d5f1b03d-d546-4e76-96b9-a8f2e8d89eb5",
        "colab": {
          "base_uri": "https://localhost:8080/",
          "height": 85
        }
      },
      "source": [
        "for i in range(k):\n",
        "    for j in range(k):\n",
        "        print(np.where(pi[i][j]==np.max(pi[i][j]))[0].tolist(),end='     ')\n",
        "    print()"
      ],
      "execution_count": 304,
      "outputs": [
        {
          "output_type": "stream",
          "text": [
            "[0, 1, 2, 3]     [3]     [3]     [2, 3]     \n",
            "[0]     [0, 3]     [0, 1, 2, 3]     [2]     \n",
            "[0]     [0, 1, 2, 3]     [1, 2]     [2]     \n",
            "[0, 1]     [1]     [1]     [0, 1, 2, 3]     \n"
          ],
          "name": "stdout"
        }
      ]
    },
    {
      "cell_type": "code",
      "metadata": {
        "id": "ke5-0mKgIIBk",
        "colab_type": "code",
        "colab": {
          "base_uri": "https://localhost:8080/",
          "height": 295
        },
        "outputId": "82881a22-37b8-4631-d0f6-3cc95b23e87e"
      },
      "source": [
        "plt.plot(delta_history[:200])\n",
        "plt.xlabel('Iterations')\n",
        "plt.ylabel('Delta')\n",
        "plt.title('Delta vs iteration')\n",
        "plt.show()"
      ],
      "execution_count": 305,
      "outputs": [
        {
          "output_type": "display_data",
          "data": {
            "image/png": "[encoded data removed]",
            "text/plain": [
              "<Figure size 432x288 with 1 Axes>"
            ]
          },
          "metadata": {
            "tags": []
          }
        }
      ]
    },
    {
      "cell_type": "code",
      "metadata": {
        "id": "lGBGqzVNI_Sb",
        "colab_type": "code",
        "colab": {
          "base_uri": "https://localhost:8080/",
          "height": 295
        },
        "outputId": "07570172-676c-48bf-efa3-b4a47e025fbc"
      },
      "source": [
        "plt.plot(stability_hist)\n",
        "plt.xlabel('Iterations')\n",
        "plt.ylabel('states')\n",
        "plt.title('Number of stable states with iterations')\n",
        "plt.show()"
      ],
      "execution_count": 307,
      "outputs": [
        {
          "output_type": "display_data",
          "data": {
            "image/png": "[encoded data removed]",
            "text/plain": [
              "<Figure size 432x288 with 1 Axes>"
            ]
          },
          "metadata": {
            "tags": []
          }
        }
      ]
    },
    {
      "cell_type": "markdown",
      "metadata": {
        "id": "BrQ-QQxD_IfO",
        "colab_type": "text"
      },
      "source": [
        "**Value Iteration**"
      ]
    },
    {
      "cell_type": "code",
      "metadata": {
        "id": "EBUK1kxWkFio",
        "colab_type": "code",
        "colab": {}
      },
      "source": [
        "# Get reward matrix\n",
        "R=np.zeros((k,k,4))        # reward for each action (up,right,down,left) at each state \n",
        "\n",
        "for i,j in itertools.product(range(k),range(k)):\n",
        "    if is_terminal(i,j):\n",
        "        continue\n",
        "    for action,nei in enumerate(get_neighbours(i,j)):\n",
        "            R[i,j,action]=-1    # Assign -1 for each transition\n",
        "\n",
        "V=np.zeros((k,k))            # Initialize value function with zeros\n",
        "pi=np.zeros((k,k)).tolist()     # Initialize policy with random actions\n",
        "\n",
        "epsilon=1e-9                 # Tolerance of Value Iteration"
      ],
      "execution_count": 0,
      "outputs": []
    },
    {
      "cell_type": "code",
      "metadata": {
        "id": "ERmPmR-P1hK4",
        "colab_type": "code",
        "colab": {}
      },
      "source": [
        "delta_history=[]\n",
        "# Policy Evaluation\n",
        "def Policy_evaluation():\n",
        "    while True:\n",
        "        Delta=0\n",
        "        for i,j in itertools.product(range(k),range(k)):    # Check all non-terminal states\n",
        "            if is_terminal(i,j):\n",
        "                continue\n",
        "            tempv=V[i,j]\n",
        "            values=[]\n",
        "            for action,neig in enumerate(get_neighbours(i,j)):\n",
        "                values.append(R[i,j,action]+gamma*V[neig[0],neig[1]])\n",
        "            V[i,j]=max(values)\n",
        "            Delta=max(Delta,abs(V[i,j]-tempv))\n",
        "        delta_history.append(Delta)    # Append the largest Delta of all states\n",
        "        if Delta<epsilon:\n",
        "            break"
      ],
      "execution_count": 0,
      "outputs": []
    },
    {
      "cell_type": "code",
      "metadata": {
        "id": "Ny9uJ7df1hAL",
        "colab_type": "code",
        "colab": {}
      },
      "source": [
        "# Value Iteration\n",
        "Policy_evaluation()\n",
        "\n",
        "# Choose optimal policy greedily\n",
        "for i,j in itertools.product(range(k),range(k)):    # Check all non-terminal states\n",
        "    if is_terminal(i,j):\n",
        "        continue\n",
        "    value=[]\n",
        "    for action,neig in enumerate(get_neighbours(i,j)):\n",
        "        value.append(R[i,j,action]+gamma*V[neig[0],neig[1]])\n",
        "    pi[i][j]=np.where(np.array(value)==np.max(value))[0].tolist()"
      ],
      "execution_count": 0,
      "outputs": []
    },
    {
      "cell_type": "code",
      "metadata": {
        "id": "SjBwTlfSkFdr",
        "colab_type": "code",
        "outputId": "bb137162-2796-410a-ebaa-24e950006344",
        "colab": {
          "base_uri": "https://localhost:8080/",
          "height": 85
        }
      },
      "source": [
        "V.round(1)"
      ],
      "execution_count": 226,
      "outputs": [
        {
          "output_type": "execute_result",
          "data": {
            "text/plain": [
              "array([[ 0., -1., -2., -3.],\n",
              "       [-1., -2., -3., -2.],\n",
              "       [-2., -3., -2., -1.],\n",
              "       [-3., -2., -1.,  0.]])"
            ]
          },
          "metadata": {
            "tags": []
          },
          "execution_count": 226
        }
      ]
    },
    {
      "cell_type": "code",
      "metadata": {
        "id": "k819pO8ckFYh",
        "colab_type": "code",
        "outputId": "d1e39db1-a2a2-4201-e5d5-f56a7219589b",
        "colab": {
          "base_uri": "https://localhost:8080/",
          "height": 85
        }
      },
      "source": [
        "# Print policy\n",
        "for i in range(k):\n",
        "    for j in range(k):\n",
        "        print(pi[i][j],end='     ')\n",
        "    print()"
      ],
      "execution_count": 227,
      "outputs": [
        {
          "output_type": "stream",
          "text": [
            "0.0     [3]     [3]     [2, 3]     \n",
            "[0]     [0, 3]     [0, 1, 2, 3]     [2]     \n",
            "[0]     [0, 1, 2, 3]     [1, 2]     [2]     \n",
            "[0, 1]     [1]     [1]     0.0     \n"
          ],
          "name": "stdout"
        }
      ]
    },
    {
      "cell_type": "code",
      "metadata": {
        "id": "hqgZkzpbHAVD",
        "colab_type": "code",
        "colab": {
          "base_uri": "https://localhost:8080/",
          "height": 295
        },
        "outputId": "e1f9a1ad-df8e-4d13-b8aa-4163aac28204"
      },
      "source": [
        "plt.plot(delta_history)\n",
        "plt.xlabel('Iterations')\n",
        "plt.ylabel('Delta')\n",
        "plt.title('Delta vs iteration')\n",
        "plt.show()"
      ],
      "execution_count": 230,
      "outputs": [
        {
          "output_type": "display_data",
          "data": {
            "image/png": "[encoded data removed]",
            "text/plain": [
              "<Figure size 432x288 with 1 Axes>"
            ]
          },
          "metadata": {
            "tags": []
          }
        }
      ]
    },
    {
      "cell_type": "markdown",
      "metadata": {
        "id": "qBe1Y7xLYw7e",
        "colab_type": "text"
      },
      "source": [
        "# Jack's car rental problem"
      ]
    },
    {
      "cell_type": "code",
      "metadata": {
        "id": "rUyuj62HYgYg",
        "colab_type": "code",
        "colab": {}
      },
      "source": [
        "# Number of states possible for each location \n",
        "k=21  \n",
        "gamma=0.9\n",
        "epsilon=1e-6                 # Tolerance of Policy evaluation\n",
        "# Total number of actions possible, move i cars from location 1 to location 2; -5<=i<=5\n",
        "num_actions=11      \n",
        "\n",
        "# Get probability of x from poisson of mean lamb\n",
        "def poisson_prob(x,lamb=3):\n",
        "    return poisson.pmf(k=x,mu=lamb)\n",
        "\n",
        "# Cache poisson pmf results\n",
        "poisson3=np.empty(k)\n",
        "poisson4=np.empty(k)\n",
        "poisson2=np.empty(k)\n",
        "\n",
        "for i in np.arange(k):\n",
        "    poisson3[i]=poisson_prob(i,3)\n",
        "    poisson4[i]=poisson_prob(i,4)\n",
        "    poisson2[i]=poisson_prob(i,2)"
      ],
      "execution_count": 0,
      "outputs": []
    },
    {
      "cell_type": "code",
      "metadata": {
        "id": "ksRZanYBYgTT",
        "colab_type": "code",
        "colab": {}
      },
      "source": [
        "# returns weighted reward for each possible state \n",
        "# state is a tuple of number of cars in each location \n",
        "# action is from -5 to 5\n",
        "@jit(nopython=True)\n",
        "def inner_sum(state,action,V):\n",
        "    tot_reward=0\n",
        "\n",
        "    # First do the action of moving cars; s=intermediate state\n",
        "    # then calculate reward; -2 for moving each car\n",
        "    s=[min(state[0]-action,20),min(state[1]+action,20)]\n",
        "    tot_reward=-2*abs(action)\n",
        "\n",
        "    # Extension 4.7\n",
        "    if action>0:       # If we transfer car(s) from location 1 to 2, then deduct cost for 1 car which can be transfered by our friend \n",
        "        tot_reward+=2\n",
        "    tot_reward-=4*((s[0]>10)+(s[1]>10))   # Add additional cost if cars>10 at any location\n",
        "\n",
        "    # All possible ways to rent from each location\n",
        "    for rent1 in np.arange(k//2+1):\n",
        "        for rent2 in np.arange(k//2+1):\n",
        "            prob_rent=poisson3[rent1]*poisson4[rent2]\n",
        "            temps=max(s[0]-rent1,0),max(s[1]-rent2,0)\n",
        "            r=((s[0]-temps[0])+(s[1]-temps[1]))*10               # reward=number of cars rented * 10\n",
        "\n",
        "            # All possible ways to return to each location\n",
        "            for return1 in np.arange(k//2+1):\n",
        "                for return2 in np.arange(k//2+1):\n",
        "                    prob_return=poisson3[return1]*poisson2[return2]\n",
        "                    sp=min(temps[0]+return1,20),min(temps[1]+return2,20)\n",
        "                    tot_reward+=prob_rent*prob_return*(r+gamma*V[sp[0],sp[1]])   # Mulitply both the probabilities\n",
        "\n",
        "    return tot_reward"
      ],
      "execution_count": 0,
      "outputs": []
    },
    {
      "cell_type": "code",
      "metadata": {
        "id": "HaU9N5VTYgIt",
        "colab_type": "code",
        "colab": {}
      },
      "source": [
        "# Policy Evaluation\n",
        "@jit(nopython=True)\n",
        "def Policy_evaluation(V,pi):\n",
        "    while True:\n",
        "        Delta=0\n",
        "        for i in np.arange(k):\n",
        "            for j in np.arange(k):\n",
        "                tempv=V[i,j]\n",
        "                V[i,j]=inner_sum((i,j),pi[i,j],V)\n",
        "                Delta=max(Delta,abs(V[i,j]-tempv))\n",
        "        if Delta<epsilon:\n",
        "            break"
      ],
      "execution_count": 0,
      "outputs": []
    },
    {
      "cell_type": "code",
      "metadata": {
        "id": "d803b-T5YgDG",
        "colab_type": "code",
        "colab": {}
      },
      "source": [
        "# Policy Improvement\n",
        "@jit(nopython=True)\n",
        "def Policy_improvement(V,pi):\n",
        "    policy_stable=True\n",
        "    for i in range(k):\n",
        "        for j in range(k):\n",
        "            old_action=pi[i,j]\n",
        "            values=np.empty(num_actions)\n",
        "            for action in range(-5,6):\n",
        "                if ((0<=action) and (action<=i)) or ((0<=-action) and (-action<=j)):\n",
        "                    values[action+5]=inner_sum((i,j),action,V)\n",
        "                else:\n",
        "                    values[action+5]=-np.inf\n",
        "            pi[i,j]=np.argmax(values)-5\n",
        "            if pi[i,j]!=old_action:\n",
        "                policy_stable=False\n",
        "    return policy_stable"
      ],
      "execution_count": 0,
      "outputs": []
    },
    {
      "cell_type": "code",
      "metadata": {
        "id": "sJpY7qXzYf94",
        "colab_type": "code",
        "outputId": "8c1ee6eb-599c-4446-f59d-03899ef82bcd",
        "colab": {
          "base_uri": "https://localhost:8080/",
          "height": 136
        }
      },
      "source": [
        "%%time\n",
        "c=0\n",
        "V=np.zeros((k,k))        # Initialize state-value function with zeros\n",
        "pi=np.zeros((k,k),dtype=np.int)      # Policy, initially 0 car moves from each location \n",
        "\n",
        "while True:\n",
        "    c+=1\n",
        "    Policy_evaluation(V,pi)\n",
        "    PI=Policy_improvement(V,pi)\n",
        "    print(c)\n",
        "    if PI:\n",
        "        break\n",
        "\n",
        "print(\"Number of steps taken to converge:\",c)"
      ],
      "execution_count": 197,
      "outputs": [
        {
          "output_type": "stream",
          "text": [
            "1\n",
            "2\n",
            "3\n",
            "4\n",
            "Number of steps taken to converge: 4\n",
            "CPU times: user 19.7 s, sys: 31 ms, total: 19.7 s\n",
            "Wall time: 19.7 s\n"
          ],
          "name": "stdout"
        }
      ]
    },
    {
      "cell_type": "code",
      "metadata": {
        "id": "bwq9DYZo5Q2h",
        "colab_type": "code",
        "outputId": "f486694d-274b-4287-a2d0-6705b3e982c3",
        "colab": {
          "base_uri": "https://localhost:8080/",
          "height": 295
        }
      },
      "source": [
        "plt.imshow(pi,cmap='magma')\n",
        "plt.colorbar()\n",
        "plt.gca().invert_yaxis()\n",
        "plt.xlabel('# Cars at second location')\n",
        "plt.ylabel('# Cars at first location')\n",
        "plt.title('Original problem')\n",
        "plt.show()"
      ],
      "execution_count": 192,
      "outputs": [
        {
          "output_type": "display_data",
          "data": {
            "image/png": "[encoded data removed]",
            "text/plain": [
              "<Figure size 432x288 with 2 Axes>"
            ]
          },
          "metadata": {
            "tags": []
          }
        }
      ]
    },
    {
      "cell_type": "code",
      "metadata": {
        "id": "STtf-iDZYfV0",
        "colab_type": "code",
        "outputId": "9add96fc-a25c-4f7e-8235-c41626c6ee01",
        "colab": {
          "base_uri": "https://localhost:8080/",
          "height": 295
        }
      },
      "source": [
        "plt.imshow(pi,cmap='magma')\n",
        "plt.colorbar()\n",
        "plt.gca().invert_yaxis()\n",
        "plt.xlabel('# Cars at second location')\n",
        "plt.ylabel('# Cars at first location')\n",
        "plt.title('Modified problem')\n",
        "plt.show()"
      ],
      "execution_count": 198,
      "outputs": [
        {
          "output_type": "display_data",
          "data": {
            "image/png": "[encoded data removed]",
            "text/plain": [
              "<Figure size 432x288 with 2 Axes>"
            ]
          },
          "metadata": {
            "tags": []
          }
        }
      ]
    }
  ]
}